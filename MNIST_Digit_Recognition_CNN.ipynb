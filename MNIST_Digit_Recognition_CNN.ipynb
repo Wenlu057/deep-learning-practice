{
 "cells": [
  {
   "cell_type": "code",
   "execution_count": 1,
   "metadata": {
    "collapsed": true
   },
   "outputs": [],
   "source": [
    "from __future__ import print_function\n",
    "import os\n",
    "import numpy as np\n",
    "import gzip\n",
    "import tensorflow as tf\n",
    "from six.moves.urllib.request import urlretrieve\n",
    "from six.moves import cPickle as pickle\n",
    "from shutil import copyfile\n",
    "import IPython.core.debugger\n",
    "import matplotlib.pyplot as plt\n"
   ]
  },
  {
   "cell_type": "code",
   "execution_count": 2,
   "metadata": {
    "collapsed": true
   },
   "outputs": [],
   "source": [
    "dbg = IPython.core.debugger.Pdb()"
   ]
  },
  {
   "cell_type": "code",
   "execution_count": 3,
   "metadata": {
    "collapsed": true
   },
   "outputs": [],
   "source": [
    "TRAIN_IMAGES = 'train-images-idx3-ubyte.gz'\n",
    "TRAIN_LABELS = 'train-labels-idx1-ubyte.gz'\n",
    "TEST_IMAGES = 't10k-images-idx3-ubyte.gz'\n",
    "TEST_LABELS = 't10k-labels-idx1-ubyte.gz'\n",
    "\n",
    "SOURCE_URL = 'https://storage.googleapis.com/cvdf-datasets/mnist/'\n",
    "def maybe_download(filename, work_directory, source_url):\n",
    "    \"\"\"Download the data from source_url, unless it's already here\n",
    "    \n",
    "        Args:\n",
    "            filename: string, name of the file in the directory.\n",
    "            work_directory: string, path to working directory.\n",
    "            source_url: url to download from if file doesn't exist.\n",
    "            \n",
    "        Returns:\n",
    "             Path to resulting file.\n",
    "    \"\"\"\n",
    "#     dbg.set_trace()\n",
    "    if not os.path.exists(work_directory):\n",
    "        os.mkdir(work_directory)\n",
    "    filepath = os.path.join(work_directory, filename)\n",
    "    if not os.path.exists(filepath):\n",
    "        temp_file_name, _ = urlretrieve(source_url)\n",
    "        copyfile(temp_file_name, filepath)\n",
    "    print('Successfully downloaded', filename, os.stat(filepath).st_size, 'bytes')\n",
    "    return filepath\n",
    "\n"
   ]
  },
  {
   "cell_type": "code",
   "execution_count": 4,
   "metadata": {
    "collapsed": true
   },
   "outputs": [],
   "source": [
    "def _read32(bytestream):\n",
    "    dt = np.dtype(np.uint32).newbyteorder('>')\n",
    "    return np.frombuffer(bytestream.read(4), dtype = dt)[0]"
   ]
  },
  {
   "cell_type": "code",
   "execution_count": 5,
   "metadata": {
    "collapsed": true
   },
   "outputs": [],
   "source": [
    "def extract_images(f):\n",
    "    \"\"\"Extract the images into a 4D uint8 numpy array [index, y, x, depth].\n",
    "    \n",
    "    Args:\n",
    "        f: A file object that can be passed into a gzip reader.\n",
    "    Returns:\n",
    "        data: A 4D uint8 numpy array [index, y, x, depth].\n",
    "    Raises:\n",
    "        ValueError: If the bytestream does not start with 2051\n",
    "    \"\"\"\n",
    "    \n",
    "    print('Extrating', f.name)\n",
    "    with gzip.GzipFile(fileobj=f) as bytestream:\n",
    "#         dbg.set_trace()\n",
    "        magic = _read32(bytestream)\n",
    "        if magic != 2051:\n",
    "            raise ValueError('Invalid magic number %d in MNIST image file: %s' %\n",
    "                            (magic, f.name))\n",
    "        num_images = _read32(bytestream)\n",
    "        rows = _read32(bytestream)\n",
    "        cols = _read32(bytestream)\n",
    "        buf = bytestream.read(rows * cols * num_images)\n",
    "        data = np.frombuffer(buf, dtype = np.uint8)\n",
    "        data = data.reshape(num_images, rows, cols, 1)\n",
    "        return data"
   ]
  },
  {
   "cell_type": "code",
   "execution_count": 6,
   "metadata": {
    "collapsed": true
   },
   "outputs": [],
   "source": [
    "def dense_to_one_hot(labels_dense, num_classes):\n",
    "    \"\"\"Convert class labels from scalars to one-hot vectors.\"\"\"\n",
    "    num_labels = labels_dense.shape[0]\n",
    "    index_offset = numpy.arrange(num_labels) * num_classes\n",
    "    labels_one_hot = numpy.zeros((num_labels, num_classes))\n",
    "    labels_one_hot.flat[index_offset + labels_dense.ravel()] = 1\n",
    "    return labels_one_hot"
   ]
  },
  {
   "cell_type": "code",
   "execution_count": 7,
   "metadata": {
    "collapsed": true
   },
   "outputs": [],
   "source": [
    "def extract_labels(f, one_hot = False, num_classes = 10):\n",
    "    \"\"\"Extract the labels into a 1D uint8 numpy array [index].\n",
    "    \n",
    "        Args:\n",
    "          f: A file object that can be passed into a gzip reader.\n",
    "          one_hot: Does one hot encoding for the result.\n",
    "          num_classes: Number of classes for the one hot encoding.\n",
    "        Returns:\n",
    "          labels: a 1D uint8 numpy array.\n",
    "        Raises:\n",
    "          ValueError: If the bytestream does not start with 2049.\n",
    "    \"\"\"\n",
    "    print('Extracting', f.name)\n",
    "    with gzip.GzipFile(fileobj=f) as bytestream:\n",
    "        magic = _read32(bytestream)\n",
    "        if magic != 2049:\n",
    "            raise ValueError('Invalid magic number %d in MNIST label file: %s' %\n",
    "                            (magic, f.name))\n",
    "        num_items = _read32(bytestream)\n",
    "        buf = bytestream.read(num_items)\n",
    "        labels = np.frombuffer(buf, dtype=np.uint8)\n",
    "        if one_hot:\n",
    "            return dense_to_one_hot(labels, num_classes)\n",
    "        return labels"
   ]
  },
  {
   "cell_type": "code",
   "execution_count": 8,
   "metadata": {
    "scrolled": true
   },
   "outputs": [
    {
     "name": "stdout",
     "output_type": "stream",
     "text": [
      "Successfully downloaded train-images-idx3-ubyte.gz 9912422 bytes\n",
      "Extrating MNIST_data/train-images-idx3-ubyte.gz\n",
      "(60000, 28, 28, 1)\n",
      "Successfully downloaded train-labels-idx1-ubyte.gz 28881 bytes\n",
      "Extracting MNIST_data/train-labels-idx1-ubyte.gz\n",
      "Successfully downloaded t10k-images-idx3-ubyte.gz 1648877 bytes\n",
      "Extrating MNIST_data/t10k-images-idx3-ubyte.gz\n",
      "Successfully downloaded t10k-labels-idx1-ubyte.gz 4542 bytes\n",
      "Extracting MNIST_data/t10k-labels-idx1-ubyte.gz\n"
     ]
    }
   ],
   "source": [
    "work_dir = \"MNIST_data/\"\n",
    "validation_size = 5000\n",
    "\n",
    "train_path = maybe_download(TRAIN_IMAGES, work_dir, SOURCE_URL + TRAIN_IMAGES)\n",
    "with open(train_path, 'rb') as f:\n",
    "    train_images = extract_images(f)\n",
    "    print(train_images.shape)\n",
    "    \n",
    "labels_path = maybe_download(TRAIN_LABELS, work_dir, SOURCE_URL + TRAIN_LABELS)\n",
    "with open(labels_path, 'rb') as f:\n",
    "    train_labels = extract_labels(f, one_hot = False)\n",
    "    \n",
    "test_path = maybe_download(TEST_IMAGES, work_dir, SOURCE_URL + TEST_IMAGES)\n",
    "with open(test_path, 'rb') as f:\n",
    "    test_images = extract_images(f)\n",
    "    \n",
    "tlabels_path = maybe_download(TEST_LABELS, work_dir, SOURCE_URL + TEST_LABELS )\n",
    "with open(tlabels_path, 'rb') as f:\n",
    "    test_labels = extract_labels(f, one_hot = False)\n",
    "    \n",
    "if not 0 <= validation_size <= len(train_images):\n",
    "    raise ValueError(\n",
    "        'Validation size should be between 0 and {}. Received: {}.'\n",
    "        .format(len(train_images), validation_size))\n",
    "validation_images = train_images[:validation_size]\n",
    "validation_labels = train_labels[:validation_size]\n",
    "train_images = train_images[validation_size:]\n",
    "train_labels = train_labels[validation_size:]\n",
    "\n"
   ]
  },
  {
   "cell_type": "code",
   "execution_count": 9,
   "metadata": {
    "scrolled": true
   },
   "outputs": [
    {
     "name": "stdout",
     "output_type": "stream",
     "text": [
      "(55000, 28, 28)\n",
      "(10000, 28, 28)\n",
      "(5000, 28, 28)\n"
     ]
    }
   ],
   "source": [
    "image_size = 28\n",
    "image_pixel = 255\n",
    "train_images = train_images.reshape(-1,image_size, image_size)\n",
    "test_images = test_images.reshape(-1, image_size, image_size)\n",
    "validation_images = validation_images.reshape(-1, image_size, image_size)\n",
    "print(train_images.shape)\n",
    "print(test_images.shape)\n",
    "print(validation_images.shape)"
   ]
  },
  {
   "cell_type": "code",
   "execution_count": 10,
   "metadata": {},
   "outputs": [
    {
     "name": "stdout",
     "output_type": "stream",
     "text": [
      "(55000, 28, 28)\n",
      "Mean: -0.3693\n",
      "Standard deviation: 0.30816\n",
      "(10000, 28, 28)\n",
      "Mean: -0.367486\n",
      "Standard deviation: 0.31048\n",
      "(5000, 28, 28)\n",
      "Mean: -0.369778\n",
      "Standard deviation: 0.30754\n"
     ]
    }
   ],
   "source": [
    "def load_letter(image_files):\n",
    "    \"\"\"\n",
    "    normalized to have approximately zero mean \n",
    "    and standard deviation ~0.5 to make training \n",
    "    easier down the road.\n",
    "    \n",
    "    Args:\n",
    "        image_files: 3-D numpy array [index, y, x]\n",
    "    Return:\n",
    "        dataset: normalized 3-D numpy array[index, y, x]\n",
    "    \"\"\"\n",
    "    \n",
    "    dataset = np.ndarray(shape = (image_files.shape[0], image_size, image_size),\n",
    "                        dtype = np.float32)\n",
    "    \n",
    "    num_images = 0\n",
    "    for index in range(image_files.shape[0]):\n",
    "        image_data = (image_files[index].astype(float) - image_pixel/2)/image_pixel\n",
    "        dataset[num_images, :, :] =image_data\n",
    "        num_images = num_images +1\n",
    "    dataset = dataset[0:num_images, :, :]\n",
    "    print(dataset.shape)\n",
    "    print('Mean:', np.mean(dataset))\n",
    "    print('Standard deviation:', np.std(dataset))\n",
    "    return dataset\n",
    "\n",
    "train_dataset = load_letter(train_images)\n",
    "test_dataset = load_letter(test_images)\n",
    "validation_dataset = load_letter(validation_images)\n",
    "del(train_images)\n",
    "del(test_images)\n",
    "del(validation_images)"
   ]
  },
  {
   "cell_type": "code",
   "execution_count": 11,
   "metadata": {
    "collapsed": true
   },
   "outputs": [],
   "source": [
    "# root = '.'\n",
    "# pickle_dir = 'MNIST_pickle/'\n",
    "# def maybe_pickle(dataset,dest_dir,filename, force= False):\n",
    "#     \"\"\"\n",
    "#     pickle the dataset as the pickle file\n",
    "    \n",
    "#     Args:\n",
    "#          dataset: the dataset need to pickle.\n",
    "#          dest_dir: path where you save the pickle files.\n",
    "#          filename: str represents the name of the dataset\n",
    "#     Return:\n",
    "#          dataset_names: the name of the pickle file\n",
    "#     \"\"\"\n",
    "#     if not os.path.exists(dest_dir):\n",
    "#         os.mkdir(dest_dir)\n",
    "#     file_path = os.path.join(root, dest_dir, filename) + '.pickle'\n",
    "#     if os.path.exists(file_path) and not force:\n",
    "#         print('%s already present - Skipping pickling.' % filename)\n",
    "#     else:\n",
    "#         print('Pickling %s.' % file_path)\n",
    "#         try:\n",
    "#             with open(file_path, 'wb') as f:\n",
    "#                 pickle.dump(dataset, f, pickle.HIGHEST_PROTOCOL)\n",
    "#         except Exception as e:\n",
    "#             print('Unable to save data to', filename, ':', e)\n",
    "#     return file_path\n",
    "\n",
    "# train_pickle = maybe_pickle(train_dataset, pickle_dir, 'train_dataset' )\n",
    "# test_pickle = maybe_pickle(test_dataset, pickle_dir, 'test_dataset')\n",
    "# validation_pickle = maybe_pickle(validation_dataset, pickle_dir, 'validation_dataset')\n"
   ]
  },
  {
   "cell_type": "code",
   "execution_count": 12,
   "metadata": {},
   "outputs": [
    {
     "name": "stdout",
     "output_type": "stream",
     "text": [
      "./MNIST_pickle/MNIST.pickle already present - Skipping pickling.\n"
     ]
    }
   ],
   "source": [
    "root = '.'\n",
    "pickle_dir = 'MNIST_pickle/'\n",
    "pickle_file = os.path.join(root, pickle_dir, 'MNIST.pickle')\n",
    "if not os.path.exists(pickle_dir):\n",
    "        os.mkdir(pickle_dir)\n",
    "if os.path.exists(pickle_file):\n",
    "        print('%s already present - Skipping pickling.' % pickle_file)\n",
    "try:\n",
    "    f = open(pickle_file, 'wb')\n",
    "    save = {\n",
    "        'train_dataset': train_dataset,\n",
    "        'train_labels': train_labels,\n",
    "        'test_dataset': test_dataset,\n",
    "        'test_labels': test_labels,\n",
    "        'validation_dataset':validation_dataset,\n",
    "        'validation_labels': validation_labels,\n",
    "    }\n",
    "    pickle.dump(save, f, pickle.HIGHEST_PROTOCOL)\n",
    "    f.close()\n",
    "except Exception as e:\n",
    "    print('Unable to save data to', pickle_file, ':', e)"
   ]
  },
  {
   "cell_type": "code",
   "execution_count": 13,
   "metadata": {},
   "outputs": [
    {
     "data": {
      "image/png": "[encoded data removed]",
      "text/plain": [
       "<matplotlib.figure.Figure at 0x11308abe0>"
      ]
     },
     "metadata": {},
     "output_type": "display_data"
    },
    {
     "data": {
      "image/png": "[encoded data removed]",
      "text/plain": [
       "<matplotlib.figure.Figure at 0x1287d9b00>"
      ]
     },
     "metadata": {},
     "output_type": "display_data"
    },
    {
     "data": {
      "image/png": "[encoded data removed]",
      "text/plain": [
       "<matplotlib.figure.Figure at 0x1289a1cf8>"
      ]
     },
     "metadata": {},
     "output_type": "display_data"
    },
    {
     "data": {
      "image/png": "[encoded data removed]",
      "text/plain": [
       "<matplotlib.figure.Figure at 0x102a1ee48>"
      ]
     },
     "metadata": {},
     "output_type": "display_data"
    },
    {
     "data": {
      "image/png": "[encoded data removed]",
      "text/plain": [
       "<matplotlib.figure.Figure at 0x1287cda90>"
      ]
     },
     "metadata": {},
     "output_type": "display_data"
    },
    {
     "data": {
      "image/png": "[encoded data removed]",
      "text/plain": [
       "<matplotlib.figure.Figure at 0x128b564a8>"
      ]
     },
     "metadata": {},
     "output_type": "display_data"
    },
    {
     "data": {
      "image/png": "[encoded data removed]",
      "text/plain": [
       "<matplotlib.figure.Figure at 0x1289a9b00>"
      ]
     },
     "metadata": {},
     "output_type": "display_data"
    },
    {
     "data": {
      "image/png": "[encoded data removed]",
      "text/plain": [
       "<matplotlib.figure.Figure at 0x1288a22b0>"
      ]
     },
     "metadata": {},
     "output_type": "display_data"
    },
    {
     "data": {
      "image/png": "[encoded data removed]",
      "text/plain": [
       "<matplotlib.figure.Figure at 0x128e90dd8>"
      ]
     },
     "metadata": {},
     "output_type": "display_data"
    },
    {
     "data": {
      "image/png": "[encoded data removed]",
      "text/plain": [
       "<matplotlib.figure.Figure at 0x128b50b38>"
      ]
     },
     "metadata": {},
     "output_type": "display_data"
    }
   ],
   "source": [
    "\n",
    "for i in range(10):\n",
    "    plt.imshow(train_dataset[i])\n",
    "    plt.show()"
   ]
  },
  {
   "cell_type": "code",
   "execution_count": 14,
   "metadata": {},
   "outputs": [
    {
     "name": "stdout",
     "output_type": "stream",
     "text": [
      "./MNIST_pickle/MNIST.pickle\n",
      "Training set (55000, 28, 28) (55000,)\n",
      "Validation set (5000, 28, 28) (5000,)\n",
      "Test set (10000, 28, 28) (10000,)\n"
     ]
    }
   ],
   "source": [
    "print(pickle_file)\n",
    "with open(pickle_file, 'rb') as f:\n",
    "    save = pickle.load(f)\n",
    "    train_dataset = save['train_dataset']\n",
    "    train_labels = save['train_labels']\n",
    "    validation_dataset = save['validation_dataset']\n",
    "    validation_labels = save['validation_labels']\n",
    "    test_dataset = save['test_dataset']\n",
    "    test_labels = save['test_labels']\n",
    "    del save\n",
    "    print('Training set', train_dataset.shape, train_labels.shape)\n",
    "    print('Validation set', validation_dataset.shape, validation_labels.shape)\n",
    "    print('Test set', test_dataset.shape, test_labels.shape)\n"
   ]
  },
  {
   "cell_type": "code",
   "execution_count": 15,
   "metadata": {},
   "outputs": [
    {
     "name": "stdout",
     "output_type": "stream",
     "text": [
      "Training set (55000, 28, 28, 1) (55000, 10)\n",
      "Validation set (5000, 28, 28, 1) (5000, 10)\n",
      "Test set (10000, 28, 28, 1) (10000, 10)\n"
     ]
    }
   ],
   "source": [
    "num_labels = 10\n",
    "num_channels = 1\n",
    "\n",
    "def reformat(dataset, labels):\n",
    "    dataset = dataset.reshape(-1, image_size, image_size, num_channels)\n",
    "    labels = (labels[:,None] == np.arange(num_labels)).astype(np.float32)\n",
    "    return dataset, labels\n",
    "train_dataset, train_labels = reformat(train_dataset, train_labels)\n",
    "valid_dataset, valid_labels = reformat(validation_dataset, validation_labels)\n",
    "test_dataset, test_labels = reformat(test_dataset, test_labels)\n",
    "\n",
    "print('Training set', train_dataset.shape, train_labels.shape)\n",
    "print('Validation set', valid_dataset.shape, valid_labels.shape)\n",
    "print('Test set', test_dataset.shape, test_labels.shape)"
   ]
  },
  {
   "cell_type": "code",
   "execution_count": 16,
   "metadata": {
    "collapsed": true
   },
   "outputs": [],
   "source": [
    "def accuracy(predictions, labels):\n",
    "    return (100 * np.sum(np.argmax(predictions, 1) == np.argmax(labels, 1))/predictions.shape[0])\n",
    "\n",
    "            "
   ]
  },
  {
   "cell_type": "code",
   "execution_count": 32,
   "metadata": {
    "collapsed": true
   },
   "outputs": [],
   "source": [
    "batch_size = 16\n",
    "patch_size = 5\n",
    "depth = 16\n",
    "num_hidden = 64\n",
    "\n",
    "graph = tf.Graph()\n",
    "\n",
    "with graph.as_default():\n",
    "    \n",
    "    #Input daa.\n",
    "    tf_train_dataset = tf.placeholder(tf.float32, shape = (batch_size,\n",
    "                                                           image_size,image_size, num_channels ))\n",
    "    tf_train_labels = tf.placeholder(tf.float32, shape = (batch_size,\n",
    "                                                          num_labels))\n",
    "    tf_valid_dataset = tf.constant(valid_dataset)\n",
    "    tf_test_dataset = tf.constant(test_dataset)\n",
    "    \n",
    "    #Varaibles\n",
    "  \n",
    "    layer1_weights = tf.Variable(tf.truncated_normal([patch_size, patch_size,\n",
    "                                                          num_channels, depth],stddev = 0.1), name = 'fileter1')   \n",
    "    layer1_biases = tf. Variable(tf.zeros([depth]))\n",
    "    layer2_weights = tf.Variable(tf.truncated_normal([patch_size, patch_size,\n",
    "                                                          depth, depth],stddev = 0.1))\n",
    "    layer2_biases = tf.Variable(tf.constant(1.0, shape = [depth]))\n",
    "    layer3_weights = tf.Variable(tf.truncated_normal([image_size//4*image_size//4\n",
    "                                                          *depth, num_hidden],stddev = 0.1))\n",
    "    layer3_biases = tf.Variable(tf.constant(1.0, shape = [num_hidden]))\n",
    "    layer4_weights = tf.Variable(tf.truncated_normal([num_hidden, num_labels],\n",
    "                                                         stddev = 0.1))\n",
    "    layer4_biases = tf.Variable(tf.constant(1.0, shape = [num_labels]))\n",
    "    \n",
    "    #Model\n",
    "    def model(data):\n",
    "#         dbg.set_trace()\n",
    "        conv1 = tf.nn.conv2d(data, layer1_weights, [1,1,1,1], padding = 'SAME')\n",
    "        hidden1 = tf.nn.relu(conv1+layer1_biases)\n",
    "        pool1 = tf.nn.max_pool(\n",
    "            hidden1, ksize=[1,2,2,1], strides = [1,2,2,1], padding = 'SAME')\n",
    "        conv = tf.nn.conv2d(pool1, layer2_weights, [1,1,1,1], padding = 'SAME')\n",
    "        hidden2 = tf.nn.relu(conv+layer2_biases)\n",
    "        pool = tf.nn.max_pool(\n",
    "            hidden2, ksize=[1,2,2,1], strides =[1,2,2,1], padding = 'SAME')\n",
    "        shape = pool.get_shape().as_list()\n",
    "        reshape = tf.reshape(pool,[shape[0], shape[1]*shape[2]*shape[3]])\n",
    "        hidden = tf.nn.relu(tf.matmul(reshape, layer3_weights) + layer3_biases)\n",
    "        return tf.matmul(hidden, layer4_weights) + layer4_biases, conv, hidden2, pool\n",
    "    \n",
    "    #Training computation.\n",
    "    logits, conv, hidden, pool = model(tf_train_dataset)\n",
    "    loss = tf.reduce_mean(tf.nn.softmax_cross_entropy_with_logits(labels=tf_train_labels, logits=logits))\n",
    "    \n",
    "    #Optimizer\n",
    "    optimizer = tf.train.GradientDescentOptimizer(0.05).minimize(loss)\n",
    "    \n",
    "    # Predictions for the training, validation, and test data.\n",
    "    train_prediction = tf.nn.softmax(logits)\n",
    "    valid_prediction = tf.nn.softmax(model(tf_valid_dataset)[0])\n",
    "    test_prediction = tf.nn.softmax(model(tf_test_dataset)[0])\n",
    "    \n",
    "\n",
    "    "
   ]
  },
  {
   "cell_type": "code",
   "execution_count": null,
   "metadata": {},
   "outputs": [],
   "source": [
    "num_steps = 1001\n",
    "\n",
    "with tf.Session(graph=graph) as session:\n",
    "  tf.global_variables_initializer().run()\n",
    "  print('Initialized')\n",
    "  for step in range(num_steps):\n",
    "    dbg.set_trace()\n",
    "    offset = (step * batch_size) % (train_labels.shape[0] - batch_size) #pick 1001 batches, 16 per batch\n",
    "    batch_data = train_dataset[offset:(offset + batch_size), :, :, :]\n",
    "    batch_labels = train_labels[offset:(offset + batch_size), :]\n",
    "    feed_dict = {tf_train_dataset : batch_data, tf_train_labels : batch_labels}\n",
    "    _, l, predictions = session.run(\n",
    "      [optimizer, loss, train_prediction], feed_dict=feed_dict)\n",
    "    if (step % 50 == 0):\n",
    "      print('Minibatch loss at step %d: %f' % (step, l))\n",
    "      print('Minibatch accuracy: %.1f%%' % accuracy(predictions, batch_labels))\n",
    "      print('Validation accuracy: %.1f%%' % accuracy(valid_prediction.eval(), valid_labels))\n",
    "      print(np.argmax(valid_prediction.eval()[1]))\n",
    "      plt.imshow(valid_dataset.reshape(-1,image_size,image_size)[1])\n",
    "      plt.show()\n",
    "  print('Test accuracy: %.1f%%' % accuracy(test_prediction.eval(), test_labels))"
   ]
  },
  {
   "cell_type": "code",
   "execution_count": null,
   "metadata": {},
   "outputs": [],
   "source": [
    "()"
   ]
  }
 ],
 "metadata": {
  "kernelspec": {
   "display_name": "Python 3",
   "language": "python",
   "name": "python3"
  },
  "language_info": {
   "codemirror_mode": {
    "name": "ipython",
    "version": 3
   },
   "file_extension": ".py",
   "mimetype": "text/x-python",
   "name": "python",
   "nbconvert_exporter": "python",
   "pygments_lexer": "ipython3",
   "version": "3.6.1"
  }
 },
 "nbformat": 4,
 "nbformat_minor": 2
}
